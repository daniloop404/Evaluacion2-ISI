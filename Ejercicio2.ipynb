{
 "cells": [
  {
   "cell_type": "code",
   "execution_count": 12,
   "id": "ac41379f-908e-42d7-8127-9f832e052f39",
   "metadata": {},
   "outputs": [],
   "source": [
    "import requests\n",
    "from bs4 import BeautifulSoup"
   ]
  },
  {
   "cell_type": "code",
   "execution_count": 13,
   "id": "90edc47d-ab15-4692-b62a-a49ca9d09238",
   "metadata": {},
   "outputs": [],
   "source": [
    "# URL de la página de Wikipedia\n",
    "url = \"https://es.wikipedia.org/wiki/Sistema_solar\""
   ]
  },
  {
   "cell_type": "code",
   "execution_count": 14,
   "id": "034d8c48-dcfd-453d-b0c2-283dd58a3902",
   "metadata": {},
   "outputs": [],
   "source": [
    "# Hacer una solicitud GET a la página\n",
    "response = requests.get(url)"
   ]
  },
  {
   "cell_type": "code",
   "execution_count": 15,
   "id": "8587eafd-2e8b-4838-9f5f-26834bf0fc4f",
   "metadata": {},
   "outputs": [],
   "source": [
    "# Crear el objeto BeautifulSoup\n",
    "soup = BeautifulSoup(response.text, 'html.parser')"
   ]
  },
  {
   "cell_type": "code",
   "execution_count": 18,
   "id": "a369b3c3-1ec2-446d-aa13-840afd054612",
   "metadata": {},
   "outputs": [],
   "source": [
    "# Encontrar todas las tablas en la página\n",
    "tables = soup.find_all('table', {'class': 'wikitable'})"
   ]
  },
  {
   "cell_type": "code",
   "execution_count": 19,
   "id": "e812fded-2eb6-46df-8996-ea800a34abf4",
   "metadata": {},
   "outputs": [],
   "source": [
    "# Variable para almacenar la tabla correcta\n",
    "correct_table = None"
   ]
  },
  {
   "cell_type": "code",
   "execution_count": 20,
   "id": "3dd4f03a-2d16-4c07-9648-bdef6aad2f9a",
   "metadata": {},
   "outputs": [],
   "source": [
    "# Recorrer todas las tablas para encontrar la que tiene \"Planeta enano\" en el encabezado\n",
    "for table in tables:\n",
    "    header = table.find('th').get_text(strip=True)\n",
    "    if \"Planeta enano\" in header:\n",
    "        correct_table = table\n",
    "        break"
   ]
  },
  {
   "cell_type": "code",
   "execution_count": 21,
   "id": "7bdbb06e-72ae-43fb-a460-509f039a431e",
   "metadata": {},
   "outputs": [
    {
     "name": "stdout",
     "output_type": "stream",
     "text": [
      "Planeta enano: Ceres, Satélites naturales: 0\n",
      "Planeta enano: Plutón, Satélites naturales: 5\n",
      "Planeta enano: Haumea, Satélites naturales: 2\n",
      "Planeta enano: Makemake, Satélites naturales: 1\n",
      "Planeta enano: Eris, Satélites naturales: 1\n"
     ]
    }
   ],
   "source": [
    "# Verificar si se encontró la tabla correcta\n",
    "if correct_table:\n",
    "    # Inicializar una lista para almacenar los datos\n",
    "    planets = []\n",
    "\n",
    "    # Recorrer las filas de la tabla, exceptuando la primera (el encabezado)\n",
    "    for row in correct_table.find_all('tr')[1:]:\n",
    "        columns = row.find_all('td')\n",
    "\n",
    "        # Obtener el nombre del planeta enano (primera columna)\n",
    "        nombre = columns[0].text.strip()\n",
    "\n",
    "        # Obtener el número de satélites naturales (séptima columna)\n",
    "        satelites = columns[7].text.strip()\n",
    "\n",
    "        # Añadir los datos a la lista\n",
    "        planets.append((nombre, satelites))\n",
    "\n",
    "    # Imprimir los resultados\n",
    "    for planet in planets:\n",
    "        print(f\"Planeta enano: {planet[0]}, Satélites naturales: {planet[1]}\")\n",
    "else:\n",
    "    print(\"No se encontró la tabla de planetas enanos.\")"
   ]
  },
  {
   "cell_type": "code",
   "execution_count": null,
   "id": "d9d6ff46-8756-45e5-9efa-95c53efd1d09",
   "metadata": {},
   "outputs": [],
   "source": []
  }
 ],
 "metadata": {
  "kernelspec": {
   "display_name": "Python 3 (ipykernel)",
   "language": "python",
   "name": "python3"
  },
  "language_info": {
   "codemirror_mode": {
    "name": "ipython",
    "version": 3
   },
   "file_extension": ".py",
   "mimetype": "text/x-python",
   "name": "python",
   "nbconvert_exporter": "python",
   "pygments_lexer": "ipython3",
   "version": "3.10.11"
  }
 },
 "nbformat": 4,
 "nbformat_minor": 5
}
